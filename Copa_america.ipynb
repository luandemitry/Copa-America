{
  "cells": [
    {
      "cell_type": "code",
      "execution_count": null,
      "metadata": {
        "id": "qdNWs_1dQF3y"
      },
      "outputs": [],
      "source": [
        "import pandas as pd\n",
        "import numpy as np\n",
        "import seaborn as sns\n",
        "import matplotlib.pyplot as plt"
      ]
    },
    {
      "cell_type": "code",
      "execution_count": null,
      "metadata": {
        "colab": {
          "base_uri": "https://localhost:8080/",
          "height": 191
        },
        "id": "Q4xpMcs1Quxc",
        "outputId": "f0dbc9a0-925a-40f0-93ce-2e9cebe4b464"
      },
      "outputs": [
        {
          "data": {
            "text/html": [
              "<div>\n",
              "<style scoped>\n",
              "    .dataframe tbody tr th:only-of-type {\n",
              "        vertical-align: middle;\n",
              "    }\n",
              "\n",
              "    .dataframe tbody tr th {\n",
              "        vertical-align: top;\n",
              "    }\n",
              "\n",
              "    .dataframe thead th {\n",
              "        text-align: right;\n",
              "    }\n",
              "</style>\n",
              "<table border=\"1\" class=\"dataframe\">\n",
              "  <thead>\n",
              "    <tr style=\"text-align: right;\">\n",
              "      <th></th>\n",
              "      <th>Data</th>\n",
              "      <th>Casa</th>\n",
              "      <th>Fora</th>\n",
              "      <th>Gols Casa</th>\n",
              "      <th>Gols Fora</th>\n",
              "      <th>Edição</th>\n",
              "      <th>Fase</th>\n",
              "    </tr>\n",
              "  </thead>\n",
              "  <tbody>\n",
              "    <tr>\n",
              "      <th>0</th>\n",
              "      <td>2001-07-11</td>\n",
              "      <td>Equador</td>\n",
              "      <td>Chile</td>\n",
              "      <td>1.0</td>\n",
              "      <td>4.0</td>\n",
              "      <td>2001</td>\n",
              "      <td>Grupo A</td>\n",
              "    </tr>\n",
              "    <tr>\n",
              "      <th>1</th>\n",
              "      <td>2001-07-11</td>\n",
              "      <td>Colombia</td>\n",
              "      <td>Venezuela</td>\n",
              "      <td>2.0</td>\n",
              "      <td>0.0</td>\n",
              "      <td>2001</td>\n",
              "      <td>Grupo A</td>\n",
              "    </tr>\n",
              "    <tr>\n",
              "      <th>2</th>\n",
              "      <td>2001-07-14</td>\n",
              "      <td>Chile</td>\n",
              "      <td>Venezuela</td>\n",
              "      <td>1.0</td>\n",
              "      <td>0.0</td>\n",
              "      <td>2001</td>\n",
              "      <td>Grupo A</td>\n",
              "    </tr>\n",
              "    <tr>\n",
              "      <th>3</th>\n",
              "      <td>2001-07-14</td>\n",
              "      <td>Colombia</td>\n",
              "      <td>Equador</td>\n",
              "      <td>1.0</td>\n",
              "      <td>0.0</td>\n",
              "      <td>2001</td>\n",
              "      <td>Grupo A</td>\n",
              "    </tr>\n",
              "    <tr>\n",
              "      <th>4</th>\n",
              "      <td>2001-07-17</td>\n",
              "      <td>Equador</td>\n",
              "      <td>Venezuela</td>\n",
              "      <td>4.0</td>\n",
              "      <td>0.0</td>\n",
              "      <td>2001</td>\n",
              "      <td>Grupo A</td>\n",
              "    </tr>\n",
              "  </tbody>\n",
              "</table>\n",
              "</div>"
            ],
            "text/plain": [
              "         Data      Casa       Fora  Gols Casa  Gols Fora  Edição     Fase\n",
              "0  2001-07-11   Equador      Chile        1.0        4.0    2001  Grupo A\n",
              "1  2001-07-11  Colombia  Venezuela        2.0        0.0    2001  Grupo A\n",
              "2  2001-07-14     Chile  Venezuela        1.0        0.0    2001  Grupo A\n",
              "3  2001-07-14  Colombia    Equador        1.0        0.0    2001  Grupo A\n",
              "4  2001-07-17   Equador  Venezuela        4.0        0.0    2001  Grupo A"
            ]
          },
          "execution_count": 189,
          "metadata": {
            "tags": []
          },
          "output_type": "execute_result"
        }
      ],
      "source": [
        "copa = pd.read_csv(\"data.csv\")\n",
        "copa.head()"
      ]
    },
    {
      "cell_type": "code",
      "execution_count": null,
      "metadata": {
        "id": "1RHKM08OdkLA"
      },
      "outputs": [],
      "source": [
        "copa = copa.dropna(subset=[\"Casa\",\"Fora\",\"Gols Casa\",\"Gols Fora\"])"
      ]
    },
    {
      "cell_type": "code",
      "execution_count": null,
      "metadata": {
        "colab": {
          "base_uri": "https://localhost:8080/"
        },
        "id": "YLmpY2YpQy1R",
        "outputId": "8ea939db-bb5c-480b-add9-16f34c4fcca3"
      },
      "outputs": [
        {
          "data": {
            "text/plain": [
              "Brasil        31\n",
              "Argentina     29\n",
              "Colombia      24\n",
              "Uruguai       19\n",
              "Chile         18\n",
              "Mexico        14\n",
              "Peru          14\n",
              "Venezuela     11\n",
              "Paraguai      10\n",
              "Bolivia        9\n",
              "Equador        9\n",
              "EUA            7\n",
              "Costa Rica     4\n",
              "Honduras       4\n",
              "Japao          1\n",
              "Panama         1\n",
              "Haiti          1\n",
              "Jamaica        1\n",
              "Catar          1\n",
              "Name: Casa, dtype: int64"
            ]
          },
          "execution_count": 191,
          "metadata": {
            "tags": []
          },
          "output_type": "execute_result"
        }
      ],
      "source": [
        "copa[\"Casa\"].value_counts()"
      ]
    },
    {
      "cell_type": "code",
      "execution_count": null,
      "metadata": {
        "colab": {
          "base_uri": "https://localhost:8080/"
        },
        "id": "4IqdSE_1TCI9",
        "outputId": "ef58c660-8916-4663-8729-090b95972fcc"
      },
      "outputs": [
        {
          "data": {
            "text/plain": [
              "Paraguai      24\n",
              "Peru          24\n",
              "Venezuela     20\n",
              "Uruguai       20\n",
              "Chile         19\n",
              "Bolivia       17\n",
              "Equador       17\n",
              "Colombia      13\n",
              "Mexico        12\n",
              "Costa Rica    10\n",
              "Argentina      9\n",
              "Brasil         6\n",
              "Jamaica        5\n",
              "Haiti          2\n",
              "Honduras       2\n",
              "Panama         2\n",
              "Japao          2\n",
              "EUA            2\n",
              "Catar          2\n",
              "Name: Fora, dtype: int64"
            ]
          },
          "execution_count": 192,
          "metadata": {
            "tags": []
          },
          "output_type": "execute_result"
        }
      ],
      "source": [
        "copa.Fora.value_counts()"
      ]
    },
    {
      "cell_type": "code",
      "execution_count": null,
      "metadata": {
        "colab": {
          "base_uri": "https://localhost:8080/",
          "height": 191
        },
        "id": "9nyXCemKU9Va",
        "outputId": "c2a01123-d0e5-4075-a79a-d265d3fec61e"
      },
      "outputs": [
        {
          "data": {
            "text/html": [
              "<div>\n",
              "<style scoped>\n",
              "    .dataframe tbody tr th:only-of-type {\n",
              "        vertical-align: middle;\n",
              "    }\n",
              "\n",
              "    .dataframe tbody tr th {\n",
              "        vertical-align: top;\n",
              "    }\n",
              "\n",
              "    .dataframe thead th {\n",
              "        text-align: right;\n",
              "    }\n",
              "</style>\n",
              "<table border=\"1\" class=\"dataframe\">\n",
              "  <thead>\n",
              "    <tr style=\"text-align: right;\">\n",
              "      <th></th>\n",
              "      <th>Data</th>\n",
              "      <th>Casa</th>\n",
              "      <th>Fora</th>\n",
              "      <th>Gols Casa</th>\n",
              "      <th>Gols Fora</th>\n",
              "      <th>Edição</th>\n",
              "      <th>Fase</th>\n",
              "      <th>vencedor</th>\n",
              "    </tr>\n",
              "  </thead>\n",
              "  <tbody>\n",
              "    <tr>\n",
              "      <th>0</th>\n",
              "      <td>2001-07-11</td>\n",
              "      <td>Equador</td>\n",
              "      <td>Chile</td>\n",
              "      <td>1.0</td>\n",
              "      <td>4.0</td>\n",
              "      <td>2001</td>\n",
              "      <td>Grupo A</td>\n",
              "      <td>Chile</td>\n",
              "    </tr>\n",
              "    <tr>\n",
              "      <th>1</th>\n",
              "      <td>2001-07-11</td>\n",
              "      <td>Colombia</td>\n",
              "      <td>Venezuela</td>\n",
              "      <td>2.0</td>\n",
              "      <td>0.0</td>\n",
              "      <td>2001</td>\n",
              "      <td>Grupo A</td>\n",
              "      <td>Colombia</td>\n",
              "    </tr>\n",
              "    <tr>\n",
              "      <th>2</th>\n",
              "      <td>2001-07-14</td>\n",
              "      <td>Chile</td>\n",
              "      <td>Venezuela</td>\n",
              "      <td>1.0</td>\n",
              "      <td>0.0</td>\n",
              "      <td>2001</td>\n",
              "      <td>Grupo A</td>\n",
              "      <td>Chile</td>\n",
              "    </tr>\n",
              "    <tr>\n",
              "      <th>3</th>\n",
              "      <td>2001-07-14</td>\n",
              "      <td>Colombia</td>\n",
              "      <td>Equador</td>\n",
              "      <td>1.0</td>\n",
              "      <td>0.0</td>\n",
              "      <td>2001</td>\n",
              "      <td>Grupo A</td>\n",
              "      <td>Colombia</td>\n",
              "    </tr>\n",
              "    <tr>\n",
              "      <th>4</th>\n",
              "      <td>2001-07-17</td>\n",
              "      <td>Equador</td>\n",
              "      <td>Venezuela</td>\n",
              "      <td>4.0</td>\n",
              "      <td>0.0</td>\n",
              "      <td>2001</td>\n",
              "      <td>Grupo A</td>\n",
              "      <td>Equador</td>\n",
              "    </tr>\n",
              "  </tbody>\n",
              "</table>\n",
              "</div>"
            ],
            "text/plain": [
              "         Data      Casa       Fora  ...  Edição     Fase  vencedor\n",
              "0  2001-07-11   Equador      Chile  ...    2001  Grupo A     Chile\n",
              "1  2001-07-11  Colombia  Venezuela  ...    2001  Grupo A  Colombia\n",
              "2  2001-07-14     Chile  Venezuela  ...    2001  Grupo A     Chile\n",
              "3  2001-07-14  Colombia    Equador  ...    2001  Grupo A  Colombia\n",
              "4  2001-07-17   Equador  Venezuela  ...    2001  Grupo A   Equador\n",
              "\n",
              "[5 rows x 8 columns]"
            ]
          },
          "execution_count": 193,
          "metadata": {
            "tags": []
          },
          "output_type": "execute_result"
        }
      ],
      "source": [
        "conditions  = [\n",
        "  (copa[\"Gols Casa\"]>copa[\"Gols Fora\"]),\n",
        "  (copa[\"Gols Casa\"]<copa[\"Gols Fora\"]),\n",
        "  (copa[\"Gols Casa\"]==copa[\"Gols Fora\"])\n",
        "]\n",
        "values = [copa[\"Casa\"],copa[\"Fora\"],\"Empate\"]\n",
        "copa[\"vencedor\"] = np.select(conditions,values)\n",
        "copa.head()"
      ]
    },
    {
      "cell_type": "code",
      "execution_count": null,
      "metadata": {
        "colab": {
          "base_uri": "https://localhost:8080/",
          "height": 507
        },
        "id": "PwtlLd29dw8r",
        "outputId": "a4d998e9-0395-41b2-ae21-7d77f84b9d43"
      },
      "outputs": [
        {
          "data": {
            "text/html": [
              "<div>\n",
              "<style scoped>\n",
              "    .dataframe tbody tr th:only-of-type {\n",
              "        vertical-align: middle;\n",
              "    }\n",
              "\n",
              "    .dataframe tbody tr th {\n",
              "        vertical-align: top;\n",
              "    }\n",
              "\n",
              "    .dataframe thead th {\n",
              "        text-align: right;\n",
              "    }\n",
              "</style>\n",
              "<table border=\"1\" class=\"dataframe\">\n",
              "  <thead>\n",
              "    <tr style=\"text-align: right;\">\n",
              "      <th></th>\n",
              "      <th>Selecoes</th>\n",
              "      <th>vitorias</th>\n",
              "    </tr>\n",
              "  </thead>\n",
              "  <tbody>\n",
              "    <tr>\n",
              "      <th>0</th>\n",
              "      <td>Empate</td>\n",
              "      <td>56</td>\n",
              "    </tr>\n",
              "    <tr>\n",
              "      <th>1</th>\n",
              "      <td>Argentina</td>\n",
              "      <td>24</td>\n",
              "    </tr>\n",
              "    <tr>\n",
              "      <th>2</th>\n",
              "      <td>Colombia</td>\n",
              "      <td>20</td>\n",
              "    </tr>\n",
              "    <tr>\n",
              "      <th>3</th>\n",
              "      <td>Brasil</td>\n",
              "      <td>20</td>\n",
              "    </tr>\n",
              "    <tr>\n",
              "      <th>4</th>\n",
              "      <td>Chile</td>\n",
              "      <td>16</td>\n",
              "    </tr>\n",
              "    <tr>\n",
              "      <th>5</th>\n",
              "      <td>Uruguai</td>\n",
              "      <td>16</td>\n",
              "    </tr>\n",
              "    <tr>\n",
              "      <th>6</th>\n",
              "      <td>Peru</td>\n",
              "      <td>15</td>\n",
              "    </tr>\n",
              "    <tr>\n",
              "      <th>7</th>\n",
              "      <td>Mexico</td>\n",
              "      <td>11</td>\n",
              "    </tr>\n",
              "    <tr>\n",
              "      <th>8</th>\n",
              "      <td>Paraguai</td>\n",
              "      <td>7</td>\n",
              "    </tr>\n",
              "    <tr>\n",
              "      <th>9</th>\n",
              "      <td>Venezuela</td>\n",
              "      <td>7</td>\n",
              "    </tr>\n",
              "    <tr>\n",
              "      <th>10</th>\n",
              "      <td>Costa Rica</td>\n",
              "      <td>5</td>\n",
              "    </tr>\n",
              "    <tr>\n",
              "      <th>11</th>\n",
              "      <td>Honduras</td>\n",
              "      <td>3</td>\n",
              "    </tr>\n",
              "    <tr>\n",
              "      <th>12</th>\n",
              "      <td>Equador</td>\n",
              "      <td>3</td>\n",
              "    </tr>\n",
              "    <tr>\n",
              "      <th>13</th>\n",
              "      <td>EUA</td>\n",
              "      <td>3</td>\n",
              "    </tr>\n",
              "    <tr>\n",
              "      <th>14</th>\n",
              "      <td>Bolivia</td>\n",
              "      <td>1</td>\n",
              "    </tr>\n",
              "    <tr>\n",
              "      <th>15</th>\n",
              "      <td>Panama</td>\n",
              "      <td>1</td>\n",
              "    </tr>\n",
              "  </tbody>\n",
              "</table>\n",
              "</div>"
            ],
            "text/plain": [
              "      Selecoes  vitorias\n",
              "0       Empate        56\n",
              "1    Argentina        24\n",
              "2     Colombia        20\n",
              "3       Brasil        20\n",
              "4        Chile        16\n",
              "5      Uruguai        16\n",
              "6         Peru        15\n",
              "7       Mexico        11\n",
              "8     Paraguai         7\n",
              "9    Venezuela         7\n",
              "10  Costa Rica         5\n",
              "11    Honduras         3\n",
              "12     Equador         3\n",
              "13         EUA         3\n",
              "14     Bolivia         1\n",
              "15      Panama         1"
            ]
          },
          "execution_count": 194,
          "metadata": {
            "tags": []
          },
          "output_type": "execute_result"
        }
      ],
      "source": [
        "copa_vitorias = copa[\"vencedor\"].value_counts()\n",
        "copa_vitorias_df = copa_vitorias.to_frame().reset_index()\n",
        "copa_vitorias_df = copa_vitorias_df.rename(columns={\"index\":\"Selecoes\",\"vencedor\":\"vitorias\"})\n",
        "copa_vitorias_df"
      ]
    },
    {
      "cell_type": "code",
      "execution_count": null,
      "metadata": {
        "id": "0tVXcet7dYe8"
      },
      "outputs": [],
      "source": [
        "copa_vitorias_df = copa_vitorias_df.drop(index = 0)"
      ]
    },
    {
      "cell_type": "code",
      "execution_count": null,
      "metadata": {
        "id": "uquaGvWwlBcl"
      },
      "outputs": [],
      "source": [
        "sns.set(rc={'figure.figsize':(18,9.5)})"
      ]
    },
    {
      "cell_type": "code",
      "execution_count": null,
      "metadata": {
        "colab": {
          "base_uri": "https://localhost:8080/",
          "height": 607
        },
        "id": "_JdVoHjpgRZG",
        "outputId": "40229a14-e4ff-44c7-a91e-648d20770041"
      },
      "outputs": [
        {
          "data": {
            "image/png": "[encoded data removed]",
            "text/plain": [
              "<Figure size 1296x684 with 1 Axes>"
            ]
          },
          "metadata": {
            "tags": []
          },
          "output_type": "display_data"
        }
      ],
      "source": [
        "numero_vitorias = sns.barplot(x=\"Selecoes\",y=\"vitorias\", data = copa_vitorias_df)\n",
        "numero_vitorias.set_xlabel(\"Selecoes\",fontsize=15).set_color(\"grey\")\n",
        "numero_vitorias.set_ylabel(\"Vitorias\",fontsize =15).set_color(\"grey\")\n",
        "numero_vitorias.set_title(\"Numero de vitorias desde 2001\",fontsize=20).set_color(\"grey\")"
      ]
    },
    {
      "cell_type": "code",
      "execution_count": null,
      "metadata": {
        "id": "PKa_Isz1Ppu-"
      },
      "outputs": [],
      "source": []
    }
  ],
  "metadata": {
    "colab": {
      "provenance": []
    },
    "kernelspec": {
      "display_name": "Python 3",
      "name": "python3"
    },
    "language_info": {
      "name": "python"
    }
  },
  "nbformat": 4,
  "nbformat_minor": 0
}
